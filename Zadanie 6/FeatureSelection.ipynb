{
 "cells": [
  {
   "cell_type": "markdown",
   "metadata": {},
   "source": [
    "# Selekcja i ekstrakcja cech za pomocą scikit-learn\n",
    "\n",
    "Ten notatnik pomoże Ci zapoznać się z metodami przetwarzania wstępnego danych w Pythonie. Po uzupełnieniu tego notatnika powinieneś:\n",
    "\n",
    "+ zapoznać się klasą Pipeline,\n",
    "+ wiedzieć jak znormalizować dane,\n",
    "+ umieć uruchomić algorytm selekcji cech,\n",
    "+ wiedzieć jak wykonać analizę PCA\n",
    "\n",
    "Wszystkie algorytmy będziemy uruchamiać na jednym zbiorze danych: [Boston Housing Dataset](https://www.cs.toronto.edu/~delve/data/boston/bostonDetail.html)."
   ]
  },
  {
   "cell_type": "markdown",
   "metadata": {},
   "source": [
    "## Pipeline\n",
    "\n",
    "Podczas przetwarzania wstępnego danych należy uważać, żeby nie korzystać z danych testowych. Wszakże jeśli nasz model zostanie uruchomiany na danych produkcyjnych będą to zupełnie nowe danych i nie będziemy zbyt dużo o nich wiedzieć w trakcie dokonywania predykcji.\n",
    "\n",
    "Aby ułatwić użytkownikom biblioteki `scikit-learn` przetwarzanie wstępne z możliwością rozróżnienia danych treningowych od testowych, wprowadzono klasę `Pipeline`. Klasa `Pipeline` definiuje sekwencje kroków (transformacji), które należy wykonać na danych. Kolejnymi krokami pipeline'a mogą być:\n",
    "\n",
    "- inżynieria nowych cech\n",
    "- normalizacja danych\n",
    "- usuwanie outlierów\n",
    "- selekcja cech\n",
    "- ekstrakcja cech\n",
    "- uczenie klasyfikatora\n",
    "\n",
    "Typowe pipeline'y są z reguły znacznie krótsze ;) Przydatna dokumentacja jak zwykle na stronie scikit-learn: [Pipeline](http://scikit-learn.org/stable/modules/generated/sklearn.pipeline.Pipeline.html).\n",
    "\n",
    "**Zad. 1: Załaduj wskazany zbiór danych i stwórz swój pierwszy pipeline. Pipeline powinien mieć dwa kroki: normalizację danych i uczenie regresora.**"
   ]
  },
  {
   "cell_type": "code",
   "execution_count": 1,
   "metadata": {},
   "outputs": [
    {
     "name": "stdout",
     "output_type": "stream",
     "text": [
      "RMSE: 3.6494\n"
     ]
    }
   ],
   "source": [
    "from sklearn.preprocessing import StandardScaler, RobustScaler\n",
    "from sklearn.pipeline import Pipeline\n",
    "from sklearn.datasets import load_boston\n",
    "from sklearn.ensemble import RandomForestRegressor\n",
    "from sklearn.model_selection import train_test_split\n",
    "from sklearn.metrics import mean_squared_error\n",
    "\n",
    "import numpy as np\n",
    "\n",
    "SEED = 23\n",
    "\n",
    "# 0. Zbiór danych\n",
    "boston = load_boston()\n",
    "X = boston[\"data\"]\n",
    "y = boston[\"target\"]\n",
    "names = boston[\"feature_names\"]\n",
    "X_train, X_test, y_train, y_test = train_test_split(X, y, test_size=0.25, random_state=SEED)\n",
    "\n",
    "# 1. stwórz obiekt do normalizacji danych\n",
    "scaler = StandardScaler()\n",
    "\n",
    "# 2. stwórz klasyfikator\n",
    "clf = RandomForestRegressor()\n",
    "\n",
    "# 3. stwórz Pipeline z dwoma krokami, kroki nazwij \"scaler\" i \"clf\" i niech zawierają obiekty scaler i clf\n",
    "pipe = Pipeline([('scaler', scaler), ('clf', clf)])\n",
    "\n",
    "# 4. Odpal pipeline\n",
    "clf_fit = pipe.fit(X_train, y_train)\n",
    "y_true, y_pred = y_test, clf_fit.predict(X_test)\n",
    "rmse = np.sqrt(mean_squared_error(y_true, y_pred))\n",
    "print(\"RMSE: %.4f\" % rmse)"
   ]
  },
  {
   "cell_type": "markdown",
   "metadata": {},
   "source": [
    "`Pipeline` działa trochę jak klasyfikator połączony ze wstępnym przetwarzaniem. Można zatem podać stworzony przez siebie obiekt typu `Pipeline` jako parametr `GirdSearchCV`. Ale zanim do tego przejdziemy skupmy się na metodach selekcji cech."
   ]
  },
  {
   "cell_type": "markdown",
   "metadata": {},
   "source": [
    "## Selekcja cech\n",
    "\n",
    "W poniższych sekcjach szybko spojrzymy na implementacje różnych metod selekcji cech w bibliotece `scikit-learn`. Warto zaznaczyć, że selekcja cech to bardzo szeroka działka naukowa i algorytmów jest multum. Stosunkowo niedawno pojawiła się biblioteka [`scikit-feature`](http://featureselection.asu.edu/), która rozszerza zbiór algorytmów dostępnych w `scikit-learn`. [`scikit-feature`](http://featureselection.asu.edu/) nie jest biblioteką, która jest oficjalnie wspierana przez ludzi tworzących `scikit-learn`, ale może to być dobre miejsce do poszukiwań implementacji mniej popularnych algorytmów."
   ]
  },
  {
   "cell_type": "markdown",
   "metadata": {},
   "source": [
    "### Metody filter\n",
    "\n",
    "Zacznijmy od zbadania wariancji. Do tego przyda Ci się klasa [`Variancethreshold`](http://scikit-learn.org/stable/modules/generated/sklearn.feature_selection.VarianceThreshold.html). Jeśli wariancja jest zero (kolumna ma tylko jedną wartość) na pewno warto sprawdzić czy to nie jakiś błąd. Jeśli dana kolumna to po prostu stała, można ją z czystym sumieniem usunać. Mając rozeznanie w danych, można również ustawić minimalny próg zmienności.\n",
    "\n",
    "**Zad. 2: Sprawdź czy w zbiorze danych są atrybuty o zmienności mniejszej niż 0.05.**"
   ]
  },
  {
   "cell_type": "code",
   "execution_count": 2,
   "metadata": {},
   "outputs": [
    {
     "name": "stdout",
     "output_type": "stream",
     "text": [
      "Num of attributes: 13\n",
      "Num of attributes: 13\n"
     ]
    }
   ],
   "source": [
    "from sklearn.feature_selection import VarianceThreshold\n",
    "\n",
    "# 1. Sprawdź ile atrybutów ma zbiór danych\n",
    "print(f'Num of attributes: {X_train.shape[1]}')\n",
    "# 2. Użyj metody fit_transform na obiekcie klasy VarianceThreshold\n",
    "X_v = VarianceThreshold().fit_transform(X_train)\n",
    "# 3. Sprawdź ile atrybutów ma przetransformowany zbiór danych\n",
    "print(f'Num of attributes: {X_v.shape[1]}')"
   ]
  },
  {
   "cell_type": "markdown",
   "metadata": {},
   "source": [
    "Inną prostą metodą jest badanie korelacji między zmiennymi a wartością przewidywaną. W `scikit-learn` służą do tego metody `chi2`, `f_classif` i `f_regression`. Ponieważ przewidujemy wartość ciągłą, sprawdźmy działanie tej ostatniej. Uwaga! Metody te oceniają każdą cechę osobno, dlatego cechy skorelowane będą podobnie ocenione.\n",
    "\n",
    "**Zad. 3: Oceń atrybuty na podstawie ich korelacji z atrybutem decyzyjnym.**"
   ]
  },
  {
   "cell_type": "code",
   "execution_count": 3,
   "metadata": {},
   "outputs": [
    {
     "name": "stdout",
     "output_type": "stream",
     "text": [
      "CRIM: 78.50 (p=0.000)\n",
      "ZN: 63.28 (p=0.000)\n",
      "INDUS: 106.05 (p=0.000)\n",
      "CHAS: 12.59 (p=0.000)\n",
      "NOX: 86.93 (p=0.000)\n",
      "RM: 366.32 (p=0.000)\n",
      "AGE: 72.51 (p=0.000)\n",
      "DIS: 29.16 (p=0.000)\n",
      "RAD: 67.46 (p=0.000)\n",
      "TAX: 106.88 (p=0.000)\n",
      "PTRATIO: 132.46 (p=0.000)\n",
      "B: 55.38 (p=0.000)\n",
      "LSTAT: 473.74 (p=0.000)\n"
     ]
    }
   ],
   "source": [
    "from sklearn.feature_selection import f_regression\n",
    "\n",
    "# 1. Odpalf_regression, aby uzyskać ocenę korelacji\n",
    "f_scores, p_values = f_regression(X_train, y_train)\n",
    "\n",
    "# 2. Wypisz wynik dla każdego atrybutu\n",
    "for i in range(len(names)):\n",
    "    print('{0}: {1:.2f} (p={2:.3f})'.format(names[i], f_scores[i], p_values[i]))"
   ]
  },
  {
   "cell_type": "markdown",
   "metadata": {},
   "source": [
    "Znając korelację bądź inną wartość oceniającą atrybuty, możemy wybrać podzbioru najlepszych atrybutów. Do tego służą klasy `SelectKBest` i `SelectPercentile`\n",
    "\n"
   ]
  },
  {
   "cell_type": "code",
   "execution_count": 4,
   "metadata": {},
   "outputs": [
    {
     "name": "stdout",
     "output_type": "stream",
     "text": [
      "RMSE: 3.8157\n"
     ]
    }
   ],
   "source": [
    "from sklearn.feature_selection import SelectKBest, mutual_info_regression\n",
    "\n",
    "# 1. Stwórz obiekt SelectKBest z odpowiednimi parametrami\n",
    "skb = SelectKBest(f_regression, k=10)\n",
    "# 2. Stwórz pipeline z krokami scaler, selector i clf\n",
    "pipe = Pipeline([('scaler', scaler), ('selector', skb), ('clf', clf)])\n",
    "# 3. Odpal pipeline i oceń predykcje tak jak to zrobiłeś w zadaniu 1.\n",
    "clf_fit = pipe.fit(X_train, y_train)\n",
    "y_true, y_pred = y_test, clf_fit.predict(X_test)\n",
    "rmse = np.sqrt(mean_squared_error(y_true, y_pred))\n",
    "print(\"RMSE: %.4f\" % rmse)"
   ]
  },
  {
   "cell_type": "markdown",
   "metadata": {},
   "source": [
    "**Zad. 5: Powtórz poprzednie zadanie wykorzystując tym razem miarę `mutual_info_regression`.**"
   ]
  },
  {
   "cell_type": "code",
   "execution_count": 5,
   "metadata": {},
   "outputs": [
    {
     "name": "stdout",
     "output_type": "stream",
     "text": [
      "RMSE: 3.6518\n"
     ]
    }
   ],
   "source": [
    "# 1. Stwórz obiekt SelectKBest z odpowiednimi parametrami\n",
    "skb = SelectKBest(mutual_info_regression, k=10)\n",
    "# 2. Stwórz pipeline z krokami scaler, selector i clf\n",
    "pipe = Pipeline([('scaler', scaler), ('selector', skb), ('clf', clf)])\n",
    "# 3. Odpal pipeline i oceń predykcje tak jak to zrobiłeś w zadaniu 1.\n",
    "clf_fit = pipe.fit(X_train, y_train)\n",
    "y_true, y_pred = y_test, clf_fit.predict(X_test)\n",
    "rmse = np.sqrt(mean_squared_error(y_true, y_pred))\n",
    "print(\"RMSE: %.4f\" % rmse)"
   ]
  },
  {
   "cell_type": "markdown",
   "metadata": {},
   "source": [
    "### Metody wrapper\n",
    "\n",
    "Klasyczne metody typu wrapper nie są dostępne jako funkcje w `scikit-learn`. Można samemu zaimplementować brute-force, forward selction bądź backward selection lub... posiłkować się biblioteką [`mlxtend`](http://rasbt.github.io/mlxtend/) i zawartymi tam klasami `ExhaustiveFeatureSelector` (brute-force) i `SequentialFeatureSelector` (backward/foward selection). Biblioteka `mlxtend` zawiera wiele innych bardzo ciekawych rozszerzeń do `scikit-learn` (np. Stacking czy EnsembleVote) więc warto pamiętać o tej bibliotece.\n",
    "\n",
    "Zamiast rozwodzić się nad klasycznymi metodami typu wrapper, które są bardzo kosztowne obliczeniowo, wypróbujmy algorytm RFE. Dla przypomnienia, algorytm RFE ocenia atrybuty a następnie usuwa najsłabszy z nich. Czynność ta jest powtarzana aż uzyskamy oczekiwaną liczbę atrybutów.\n"
   ]
  },
  {
   "cell_type": "markdown",
   "metadata": {},
   "source": [
    "**Zad. 6: Skorzystaj z klasy [`RFECV`](http://scikit-learn.org/stable/modules/generated/sklearn.feature_selection.RFECV.html) aby znaleźć najlepszy podzbiór atrybutów. Użyj 10-krotnej oceny krzyżowej.**"
   ]
  },
  {
   "cell_type": "code",
   "execution_count": 6,
   "metadata": {
    "scrolled": true
   },
   "outputs": [
    {
     "name": "stdout",
     "output_type": "stream",
     "text": [
      "CRIM: 1\n",
      "ZN: 4\n",
      "INDUS: 2\n",
      "CHAS: 5\n",
      "NOX: 1\n",
      "RM: 1\n",
      "AGE: 1\n",
      "DIS: 1\n",
      "RAD: 3\n",
      "TAX: 1\n",
      "PTRATIO: 1\n",
      "B: 1\n",
      "LSTAT: 1\n"
     ]
    }
   ],
   "source": [
    "from sklearn.feature_selection import RFECV\n",
    "\n",
    "# 1. Odpal RFECV na danych treningowych\n",
    "selector = RFECV(clf, step=1, cv=10).fit(X_train, y_train)\n",
    "# 2. Wypisz ranking atrybutów\n",
    "for i in range(len(names)):\n",
    "    print('{0}: {1}'.format(names[i], selector.ranking_[i]))"
   ]
  },
  {
   "cell_type": "markdown",
   "metadata": {},
   "source": [
    "Bardzo fajną hybrydą jest również algorytm Stability Selection. Jest to algorytm dość kosztowny ale łączy elementy interpretacji atrybutów oraz poprawiania trafności predykcji. Zainteresowani mogą zajrzeć do klas [`RandomizedLogisticRegression`](http://scikit-learn.org/stable/modules/generated/sklearn.linear_model.RandomizedLogisticRegression.html) (klasyfikacja) i [`RandomizedLasso`](http://scikit-learn.org/stable/modules/generated/sklearn.linear_model.RandomizedLasso.html#sklearn.linear_model.RandomizedLasso) (regresja) w dokumentacji `scikit-learn`. Obie klasy są obecnie DEPRACATED, ale liczę że po prostu przeniosą je do modułu `feature_selection`."
   ]
  },
  {
   "cell_type": "markdown",
   "metadata": {},
   "source": [
    "### Metody embedded\n",
    "\n",
    "Modele liniowe są od lat stosowane do określania ważności atrybutów. Modele liniowe bez regularyzacji potrafią wskazać ważność atrybutów jeśli dane nie są zbyt mocono zaszumione i atrybuty nie są ze sobą skorelowane.\n",
    "\n",
    "Modele liniowe z regularyzacją radzą sobie lepiej z szumem i korelacją. Regularyzacja L1 (LASSO) usuwa atrybuty i może być stosowana do selekcji cech w celu poprawy trafności predykcji. Regularyzacja L2 (Ridge regression) jest bardzie stabilna, nie usuwa atrybutów i może być stosowania do oceny atrybutów w celach interpretacyjnych.\n",
    "\n",
    "**Zad. 7: Naucz modele liniowe i sprawdź wagi przypisane kolejnym atrybutom by ocenić ich ważność. Nie zapomnij  oznormalizowaniu danych.**"
   ]
  },
  {
   "cell_type": "code",
   "execution_count": 7,
   "metadata": {},
   "outputs": [
    {
     "name": "stdout",
     "output_type": "stream",
     "text": [
      "Lasso model:  -3.797 * LSTAT + 3.003 * RM + -1.541 * PTRATIO + -1.024 * DIS + 0.883 * B + 0.746 * CHAS + -0.557 * NOX + 0.2 * ZN + -0.061 * CRIM + -0.0 * INDUS + -0.0 * AGE + 0.0 * RAD + -0.0 * TAX\n",
      "----------------------------------------------------------------------------------------------------\n",
      "Ridge model:  -3.794 * LSTAT + -3.047 * DIS + 2.772 * RM + 2.389 * RAD + -2.159 * NOX + -1.88 * PTRATIO + -1.555 * TAX + 1.149 * B + 1.109 * ZN + 0.864 * CHAS + -0.797 * CRIM + 0.167 * INDUS + 0.055 * AGE\n"
     ]
    }
   ],
   "source": [
    "from sklearn.linear_model import Lasso, Ridge\n",
    "\n",
    "def pretty_print_linear(coefs, names = None, sort = False):\n",
    "    if names is None:\n",
    "        names = [\"X%s\" % x for x in range(len(coefs))]\n",
    "    lst = zip(coefs, names)\n",
    "    if sort:\n",
    "        lst = sorted(lst,  key = lambda x:-np.abs(x[0]))\n",
    "    return \" + \".join(\"%s * %s\" % (round(coef, 3), name) for coef, name in lst)\n",
    "\n",
    "# 1. Odpal Lasso z alpha=0.3 w pipeline'ie z normalizacją\n",
    "lasso = Lasso(alpha=0.3)\n",
    "lasso_pipe = Pipeline([('scaler', scaler), ('lasso', lasso)])\n",
    "lasso_pipe.fit(X_train, y_train)\n",
    "\n",
    "# 2. Odpal Ridge z alpha=0.3 w pipeline'ie z normalizacją\n",
    "ridge = Ridge(alpha=0.3)\n",
    "ridge_pipe = Pipeline([('scaler', scaler), ('ridge', ridge)])\n",
    "ridge_pipe.fit(X_train, y_train)\n",
    "\n",
    "# 3. Wypisz uzyskane modele\n",
    "print(\"Lasso model: \", pretty_print_linear(lasso_pipe.steps[1][1].coef_, names, sort = True))\n",
    "print('-'*100)\n",
    "print(\"Ridge model: \", pretty_print_linear(ridge_pipe.steps[1][1].coef_, names, sort = True))"
   ]
  },
  {
   "cell_type": "markdown",
   "metadata": {},
   "source": [
    "## Ekstrakcja cech"
   ]
  },
  {
   "cell_type": "markdown",
   "metadata": {},
   "source": [
    "Na koniec zobaczymy jak w Pythonie policzyć PCA i na tej podstawie zmniejszyć liczbę atrybutów. Uwaga! Trzeba znormalizować dane przed analizą PCA, aby nie przecenić atrybutów o większym zakresie wartości i wten sposób nie wykonać gorszej transformacji.\n",
    "\n",
    "**Zad. 8: Wykonaj analizę PCA zgodnie z poniższymi krokami.**"
   ]
  },
  {
   "cell_type": "code",
   "execution_count": 8,
   "metadata": {},
   "outputs": [
    {
     "name": "stdout",
     "output_type": "stream",
     "text": [
      "RMSE: 4.0527\n"
     ]
    },
    {
     "data": {
      "image/png": "[encoded data removed]",
      "text/plain": [
       "<Figure size 576x432 with 1 Axes>"
      ]
     },
     "metadata": {
      "needs_background": "light"
     },
     "output_type": "display_data"
    }
   ],
   "source": [
    "%matplotlib inline\n",
    "import matplotlib.pyplot as plt\n",
    "from sklearn.decomposition import PCA\n",
    "\n",
    "# 1. Znormalizuj dane, odpal PCA i zobacz ile atrybutów potrzeba do wyjaśnienia zmienności w danych\n",
    "pca = Pipeline([('scaler', scaler), ('extractor', PCA())])\n",
    "pca.fit(X_train)\n",
    "\n",
    "plt.figure(1, figsize=(8, 6))\n",
    "plt.plot(pca.steps[1][1].explained_variance_, linewidth=2)\n",
    "plt.xlabel('n_components')\n",
    "plt.ylabel('explained_variance')\n",
    "\n",
    "# 2. Stwórz nowy obiekt PCA i ogranicz liczbę cech do określonej na podstawie wykresu liczby\n",
    "pca = PCA(n_components=10)\n",
    "# 3. Stwórz pipeline z krokami scaler, extractor i clf\n",
    "pipe = Pipeline([('scaler', scaler), ('extractor', pca), ('clf', clf)])\n",
    "# 4. Odpal pipeline i oceń predykcje tak jak to zrobiłeś w zadaniu 1.\n",
    "clf_fit = pipe.fit(X_train, y_train)\n",
    "y_true, y_pred = y_test, clf_fit.predict(X_test)\n",
    "rmse = np.sqrt(mean_squared_error(y_true, y_pred))\n",
    "print(\"RMSE: %.4f\" % rmse)"
   ]
  },
  {
   "cell_type": "markdown",
   "metadata": {},
   "source": [
    "## Zadanie bonusowe\n",
    "\n",
    "**Zad. 9*: Zaimplementuj grid search, który wypróbuje wiele metod selekcji cech (potencjalnie z różnymi parametrami) i wybierze najlepsze wstępne przetwarzanie danych.**"
   ]
  },
  {
   "cell_type": "code",
   "execution_count": 9,
   "metadata": {},
   "outputs": [
    {
     "name": "stdout",
     "output_type": "stream",
     "text": [
      "{'clf__n_estimators': 150, 'clf__random_state': 1337, 'extractor': PCA(n_components=13), 'extractor__n_components': 13, 'feature_selection': 'passthrough', 'scaler': 'passthrough'}\n",
      "----------------------------------------------------------------------------------------------------\n",
      "RMSE: 3.9995010721209634\n"
     ]
    }
   ],
   "source": [
    "from sklearn.model_selection import GridSearchCV\n",
    "\n",
    "import warnings\n",
    "warnings.filterwarnings(\"ignore\")\n",
    "\n",
    "pipe = Pipeline([\n",
    "    ('scaler', None),\n",
    "    ('extractor', None),\n",
    "    ('feature_selection', None),\n",
    "    ('clf', RandomForestRegressor())])\n",
    "\n",
    "parameters = dict(\n",
    "    scaler = ['passthrough', StandardScaler(), RobustScaler()],\n",
    "    extractor = [PCA()],\n",
    "    extractor__n_components = [5, 10 , 13],\n",
    "    feature_selection = ['passthrough', Lasso(), Ridge()],\n",
    "    clf__n_estimators = [100, 150],\n",
    "    clf__random_state = [1337]\n",
    ")\n",
    "\n",
    "clf = GridSearchCV(pipe, parameters)\n",
    "clf.fit(X_train, y_train)\n",
    "\n",
    "print(clf.best_params_)\n",
    "print('-'*100)\n",
    "print(f\"RMSE: {np.sqrt(mean_squared_error(y_test, clf.predict(X_test)))}\")"
   ]
  },
  {
   "cell_type": "code",
   "execution_count": null,
   "metadata": {},
   "outputs": [],
   "source": []
  }
 ],
 "metadata": {
  "kernelspec": {
   "display_name": "Python 3",
   "language": "python",
   "name": "python3"
  },
  "language_info": {
   "codemirror_mode": {
    "name": "ipython",
    "version": 3
   },
   "file_extension": ".py",
   "mimetype": "text/x-python",
   "name": "python",
   "nbconvert_exporter": "python",
   "pygments_lexer": "ipython3",
   "version": "3.8.5"
  }
 },
 "nbformat": 4,
 "nbformat_minor": 4
}
